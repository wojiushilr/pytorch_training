{
  "nbformat": 4,
  "nbformat_minor": 0,
  "metadata": {
    "celltoolbar": "Slideshow",
    "kernelspec": {
      "name": "python3",
      "display_name": "Python 3"
    },
    "language_info": {
      "codemirror_mode": {
        "name": "ipython",
        "version": 3
      },
      "file_extension": ".py",
      "mimetype": "text/x-python",
      "name": "python",
      "nbconvert_exporter": "python",
      "pygments_lexer": "ipython3",
      "version": "3.8.2"
    },
    "colab": {
      "name": "01_beginner.ipynb",
      "provenance": [],
      "collapsed_sections": [
        "PVPHNkopED1L"
      ],
      "include_colab_link": true
    },
    "accelerator": "GPU"
  },
  "cells": [
    {
      "cell_type": "markdown",
      "metadata": {
        "id": "view-in-github",
        "colab_type": "text"
      },
      "source": [
        "<a href=\"https://colab.research.google.com/github/wojiushilr/pytorch_training/blob/master/01_beginner.ipynb\" target=\"_parent\"><img src=\"https://colab.research.google.com/assets/colab-badge.svg\" alt=\"Open In Colab\"/></a>"
      ]
    },
    {
      "cell_type": "markdown",
      "metadata": {
        "id": "X7Lg2NXGMThA",
        "colab_type": "text"
      },
      "source": [
        "# 01_beginner\n",
        "### Author: Lirui\n"
      ]
    },
    {
      "cell_type": "code",
      "metadata": {
        "id": "Hij-E5yzXFWp",
        "colab_type": "code",
        "colab": {}
      },
      "source": [
        "import torch\n",
        "import numpy as np"
      ],
      "execution_count": 2,
      "outputs": []
    },
    {
      "cell_type": "markdown",
      "metadata": {
        "id": "lv7LKv5pm9P6",
        "colab_type": "text"
      },
      "source": [
        "## 基础\n",
        "### What is the tensor ?"
      ]
    },
    {
      "cell_type": "code",
      "metadata": {
        "id": "Zk91_jfKjtp0",
        "colab_type": "code",
        "colab": {
          "base_uri": "https://localhost:8080/",
          "height": 34
        },
        "outputId": "95002181-9f9a-4592-d104-d58b9c677e76"
      },
      "source": [
        "# return 5*4 tensor\n",
        "torch.Tensor(5, 4) #default tensor type (torch.FloatTensor).\n",
        "# torch.tensor([2,1], dtype=torch.double)"
      ],
      "execution_count": 29,
      "outputs": [
        {
          "output_type": "execute_result",
          "data": {
            "text/plain": [
              "tensor([2., 1.])"
            ]
          },
          "metadata": {
            "tags": []
          },
          "execution_count": 29
        }
      ]
    },
    {
      "cell_type": "markdown",
      "metadata": {
        "id": "HdmkdkzJnKHO",
        "colab_type": "text"
      },
      "source": [
        "### 返回的数组大小是5x4的矩阵，初始化是0~1的均匀分布\n",
        "### Construct a randomly initialized matrix:"
      ]
    },
    {
      "cell_type": "code",
      "metadata": {
        "id": "RQIPkkKdMThD",
        "colab_type": "code",
        "colab": {
          "base_uri": "https://localhost:8080/",
          "height": 102
        },
        "outputId": "8ccfe7ff-d653-4629-b26f-26f364e9f5e3"
      },
      "source": [
        "torch.rand(5, 4)"
      ],
      "execution_count": 9,
      "outputs": [
        {
          "output_type": "execute_result",
          "data": {
            "text/plain": [
              "tensor([[0.4469, 0.8075, 0.4858, 0.0165],\n",
              "        [0.0073, 0.0184, 0.4979, 0.6757],\n",
              "        [0.8141, 0.0524, 0.3400, 0.9390],\n",
              "        [0.7108, 0.6492, 0.1922, 0.8952],\n",
              "        [0.1420, 0.9768, 0.7989, 0.7161]])"
            ]
          },
          "metadata": {
            "tags": []
          },
          "execution_count": 9
        }
      ]
    },
    {
      "cell_type": "markdown",
      "metadata": {
        "id": "1xk7ZZWlS_YB",
        "colab_type": "text"
      },
      "source": [
        "### get the size"
      ]
    },
    {
      "cell_type": "code",
      "metadata": {
        "id": "2AUvKQhOsiEk",
        "colab_type": "code",
        "colab": {}
      },
      "source": [
        "torch.rand(5, 4).size()"
      ],
      "execution_count": null,
      "outputs": []
    },
    {
      "cell_type": "markdown",
      "metadata": {
        "id": "_qUsCWNVTSlf",
        "colab_type": "text"
      },
      "source": [
        "### like np.ones()"
      ]
    },
    {
      "cell_type": "code",
      "metadata": {
        "id": "A2EouRDftCTB",
        "colab_type": "code",
        "colab": {
          "base_uri": "https://localhost:8080/",
          "height": 102
        },
        "outputId": "924506b0-1781-4236-b8c6-cab6e0d28475"
      },
      "source": [
        "# numpy 类似的返回5x4大小的矩阵\n",
        "x = torch.zeros(5, 3, dtype=torch.long)\n",
        "print(x)"
      ],
      "execution_count": 3,
      "outputs": [
        {
          "output_type": "stream",
          "text": [
            "tensor([[0, 0, 0],\n",
            "        [0, 0, 0],\n",
            "        [0, 0, 0],\n",
            "        [0, 0, 0],\n",
            "        [0, 0, 0]])\n"
          ],
          "name": "stdout"
        }
      ]
    },
    {
      "cell_type": "markdown",
      "metadata": {
        "id": "eNgsm5s3KAhv",
        "colab_type": "text"
      },
      "source": [
        "### Create a tensor based on an existing tensor. These methods will reuse properties of the input tensor\n",
        "### e.g. dtype, unless new values are provided by user"
      ]
    },
    {
      "cell_type": "code",
      "metadata": {
        "id": "JFjjT_tWKCz9",
        "colab_type": "code",
        "colab": {}
      },
      "source": [
        "x = x.new_ones(5, 3, dtype=torch.double)      # new_* methods take in sizes\n",
        "print(x)\n",
        "\n",
        "x = torch.randn_like(x, dtype=torch.float)    # override dtype!\n",
        "print(x)  "
      ],
      "execution_count": null,
      "outputs": []
    },
    {
      "cell_type": "markdown",
      "metadata": {
        "id": "TTyX-aekTgFU",
        "colab_type": "text"
      },
      "source": [
        "### numpy 和 torch.Tensor 之间的转换"
      ]
    },
    {
      "cell_type": "code",
      "metadata": {
        "id": "iPbfWAjBsmN5",
        "colab_type": "code",
        "colab": {}
      },
      "source": [
        "a = torch.rand(5, 4)\n",
        "b = a.numpy()\n",
        "print(b)\n",
        "print(type(b))\n",
        "a = np.array([i for i in range(10)])\n",
        "b = torch.from_numpy(a)\n",
        "print(b)\n",
        "print(type(b))"
      ],
      "execution_count": null,
      "outputs": []
    },
    {
      "cell_type": "markdown",
      "metadata": {
        "id": "7L93P2MaUbPd",
        "colab_type": "text"
      },
      "source": [
        "### 运算和numpy类似"
      ]
    },
    {
      "cell_type": "code",
      "metadata": {
        "id": "y648ZdTscUlG",
        "colab_type": "code",
        "colab": {}
      },
      "source": [
        "x = torch.ones(3, 2)\n",
        "y = torch.ones(3, 2)\n",
        "c = 3\n",
        "print(c * x)\n",
        "print(x + y)\n",
        "print(x.add(y))\n",
        "print(x)\n",
        "# 可以直接进行操作改变原对象，x+y或者x.add()并不会改变x，但是x.add_()则会对x进行改变\n",
        "x.add_(y)\n",
        "print(x)\n",
        "\n",
        "# providing an output tensor as argument\n",
        "result = torch.empty(3, 2)\n",
        "torch.add(x, y, out=result)\n",
        "print(\"result： \")\n",
        "print(result)"
      ],
      "execution_count": null,
      "outputs": []
    },
    {
      "cell_type": "markdown",
      "metadata": {
        "id": "bdgi5L6ULT2e",
        "colab_type": "text"
      },
      "source": [
        "### Resizing: If you want to resize/reshape tensor, you can use torch.view:"
      ]
    },
    {
      "cell_type": "code",
      "metadata": {
        "id": "wR5286PVLVWI",
        "colab_type": "code",
        "colab": {
          "base_uri": "https://localhost:8080/",
          "height": 34
        },
        "outputId": "be8b0c70-107f-44af-c854-41b334c87bf5"
      },
      "source": [
        "x = torch.randn(4, 4)\n",
        "y = x.view(16)\n",
        "z = x.view(-1, 8)  # the size -1 is inferred from other dimensions\n",
        "print(x.size(), y.size(), z.size())"
      ],
      "execution_count": 9,
      "outputs": [
        {
          "output_type": "stream",
          "text": [
            "torch.Size([4, 4]) torch.Size([16]) torch.Size([2, 8])\n"
          ],
          "name": "stdout"
        }
      ]
    },
    {
      "cell_type": "markdown",
      "metadata": {
        "id": "fcBvs8hqa9Mk",
        "colab_type": "text"
      },
      "source": [
        "### 将 torch.Tensor 放到 GPU 上"
      ]
    },
    {
      "cell_type": "code",
      "metadata": {
        "id": "ZDe0bqHHcYSt",
        "colab_type": "code",
        "colab": {
          "base_uri": "https://localhost:8080/",
          "height": 34
        },
        "outputId": "558c7710-b22b-45ed-8024-4c0f6a3fed71"
      },
      "source": [
        "# 判断一下电脑是否支持GPU\n",
        "torch.cuda.is_available()"
      ],
      "execution_count": 36,
      "outputs": [
        {
          "output_type": "execute_result",
          "data": {
            "text/plain": [
              "True"
            ]
          },
          "metadata": {
            "tags": []
          },
          "execution_count": 36
        }
      ]
    },
    {
      "cell_type": "code",
      "metadata": {
        "id": "fqNsBHDAccHr",
        "colab_type": "code",
        "colab": {
          "base_uri": "https://localhost:8080/",
          "height": 153
        },
        "outputId": "ce4da8aa-4cb7-4849-9319-9c4cfbc25e25"
      },
      "source": [
        "# let us run this cell only if CUDA is available\n",
        "# We will use ``torch.device`` objects to move tensors in and out of GPU\n",
        "if torch.cuda.is_available():\n",
        "    device = torch.device(\"cuda\")          # a CUDA device object\n",
        "    y = torch.ones_like(x, device=device)  # directly create a tensor on GPU\n",
        "    x = x.to(device)                       # or just use strings ``.to(\"cuda\")``\n",
        "    z = x + y\n",
        "    print(z)\n",
        "    print(z.to(\"cpu\", torch.double))       # ``.to`` can also change dtype together!"
      ],
      "execution_count": 11,
      "outputs": [
        {
          "output_type": "stream",
          "text": [
            "tensor([[ 1.5585,  1.1210,  1.3479,  0.4689],\n",
            "        [ 1.7637,  2.7982,  0.5568,  1.5845],\n",
            "        [-0.4854, -0.4950,  0.0614,  0.9224],\n",
            "        [ 1.7262,  0.7709,  2.1007, -0.0983]], device='cuda:0')\n",
            "tensor([[ 1.5585,  1.1210,  1.3479,  0.4689],\n",
            "        [ 1.7637,  2.7982,  0.5568,  1.5845],\n",
            "        [-0.4854, -0.4950,  0.0614,  0.9224],\n",
            "        [ 1.7262,  0.7709,  2.1007, -0.0983]], dtype=torch.float64)\n"
          ],
          "name": "stdout"
        }
      ]
    },
    {
      "cell_type": "markdown",
      "metadata": {
        "id": "gDW3bRS0ViS0",
        "colab_type": "text"
      },
      "source": [
        "## autograd"
      ]
    },
    {
      "cell_type": "markdown",
      "metadata": {
        "id": "EUfBMjzPEdw2",
        "colab_type": "text"
      },
      "source": [
        "\n",
        "### torch 的自动求导功能\n",
        "torch 和大部分框架一样有着自动求导功能，对象不再是 torch.Tensor，而是torch.autograd.Variable\n",
        "\n",
        "本质上Variable和Tensor没有什么区别，不过Variable会放在一个计算图里面，可以进行前向传播和反向传播以及求导\n",
        "[referance](https://pytorch.org/docs/stable/autograd.html)"
      ]
    },
    {
      "cell_type": "code",
      "metadata": {
        "id": "YoN7QQDrcib2",
        "colab_type": "code",
        "colab": {
          "base_uri": "https://localhost:8080/",
          "height": 51
        },
        "outputId": "918ed95d-0088-44bf-f432-e5e376be4774"
      },
      "source": [
        "# Create a tensor and set requires_grad=True to track computation with it\n",
        "# set the object for autograd\n",
        "x = torch.tensor([3], dtype = torch.float, requires_grad=True)\n",
        "y = torch.ones(1, requires_grad=True)\n",
        "print(x)\n",
        "print(y)\n"
      ],
      "execution_count": 76,
      "outputs": [
        {
          "output_type": "stream",
          "text": [
            "tensor([3.], requires_grad=True)\n",
            "tensor([1.], requires_grad=True)\n"
          ],
          "name": "stdout"
        }
      ]
    },
    {
      "cell_type": "code",
      "metadata": {
        "id": "H-1x_xNyTRz5",
        "colab_type": "code",
        "colab": {
          "base_uri": "https://localhost:8080/",
          "height": 51
        },
        "outputId": "0c357d06-c87e-41fa-a85a-9713d906470e"
      },
      "source": [
        "# bulid the compute gragh\n",
        "z = x * x + y\n",
        "print(z)\n",
        "print(z.grad_fn)"
      ],
      "execution_count": 77,
      "outputs": [
        {
          "output_type": "stream",
          "text": [
            "tensor([10.], grad_fn=<AddBackward0>)\n",
            "<AddBackward0 object at 0x7f6c974d6358>\n"
          ],
          "name": "stdout"
        }
      ]
    },
    {
      "cell_type": "code",
      "metadata": {
        "id": "ZRhlS4B4TuWx",
        "colab_type": "code",
        "colab": {
          "base_uri": "https://localhost:8080/",
          "height": 34
        },
        "outputId": "d35e0536-b5da-40dc-fdfd-dde8a3ce30ac"
      },
      "source": [
        "out = z\n",
        "print(out)\n"
      ],
      "execution_count": 78,
      "outputs": [
        {
          "output_type": "stream",
          "text": [
            "tensor([10.], grad_fn=<AddBackward0>)\n"
          ],
          "name": "stdout"
        }
      ]
    },
    {
      "cell_type": "markdown",
      "metadata": {
        "id": "MgZsWIjBV09I",
        "colab_type": "text"
      },
      "source": [
        "### Gradients\n",
        "### Let’s backprop now. Because out contains a single scalar, out.backward() is equivalent to out.backward(torch.tensor(1.))."
      ]
    },
    {
      "cell_type": "code",
      "metadata": {
        "id": "swbricAnuaUc",
        "colab_type": "code",
        "colab": {
          "base_uri": "https://localhost:8080/",
          "height": 34
        },
        "outputId": "23048ede-0e6d-438c-b2ad-0d690a2b96da"
      },
      "source": [
        "print(out)\n",
        "## 对 x 和 y 分别求导\n",
        "out.backward(retain_graph=True)"
      ],
      "execution_count": 79,
      "outputs": [
        {
          "output_type": "stream",
          "text": [
            "tensor([10.], grad_fn=<AddBackward0>)\n"
          ],
          "name": "stdout"
        }
      ]
    },
    {
      "cell_type": "markdown",
      "metadata": {
        "id": "XSAmYLg7WgUi",
        "colab_type": "text"
      },
      "source": [
        "### Print gradients d(out)/dx"
      ]
    },
    {
      "cell_type": "code",
      "metadata": {
        "id": "XhviGXQFWfRf",
        "colab_type": "code",
        "colab": {
          "base_uri": "https://localhost:8080/",
          "height": 51
        },
        "outputId": "bcbfec0d-9648-42f7-8de6-bd3fe215f553"
      },
      "source": [
        "# x 的导数和 y 的导数\n",
        "print(x.grad)\n",
        "print(y.grad)"
      ],
      "execution_count": 81,
      "outputs": [
        {
          "output_type": "stream",
          "text": [
            "tensor([6.])\n",
            "tensor([1.])\n"
          ],
          "name": "stdout"
        }
      ]
    },
    {
      "cell_type": "markdown",
      "metadata": {
        "id": "PVPHNkopED1L",
        "colab_type": "text"
      },
      "source": [
        "### an example of vector-Jacobian product:\n"
      ]
    },
    {
      "cell_type": "code",
      "metadata": {
        "id": "3DTYX4iMEHJv",
        "colab_type": "code",
        "colab": {
          "base_uri": "https://localhost:8080/",
          "height": 34
        },
        "outputId": "3e029d4e-d32e-4f9c-c2cf-5ba02096cc43"
      },
      "source": [
        "x = torch.randn(3, requires_grad=True)\n",
        "y = x * 2\n",
        "while y.data.norm() < 1000:\n",
        "    y = y * 2\n",
        "\n",
        "print(y)"
      ],
      "execution_count": 63,
      "outputs": [
        {
          "output_type": "stream",
          "text": [
            "tensor([ -126.7933,   605.1998, -1189.4474], grad_fn=<MulBackward0>)\n"
          ],
          "name": "stdout"
        }
      ]
    },
    {
      "cell_type": "code",
      "metadata": {
        "id": "Ub0agDdcEfyZ",
        "colab_type": "code",
        "colab": {
          "base_uri": "https://localhost:8080/",
          "height": 34
        },
        "outputId": "7cb592d5-082c-48fd-8d43-9e1550256cf6"
      },
      "source": [
        "v = torch.tensor([0.1, 1.0, 0.0001], dtype=torch.float)\n",
        "y.backward(v)\n",
        "\n",
        "print(x.grad)"
      ],
      "execution_count": 64,
      "outputs": [
        {
          "output_type": "stream",
          "text": [
            "tensor([1.0240e+02, 1.0240e+03, 1.0240e-01])\n"
          ],
          "name": "stdout"
        }
      ]
    },
    {
      "cell_type": "markdown",
      "metadata": {
        "id": "gO7K9phkIQRu",
        "colab_type": "text"
      },
      "source": [
        "### stop autograd from tracking history\n",
        "- with torch.no_grad()\n",
        "- or .detach()"
      ]
    },
    {
      "cell_type": "code",
      "metadata": {
        "id": "hug96pRVIRfb",
        "colab_type": "code",
        "colab": {}
      },
      "source": [
        "print((x ** 2).requires_grad)\n",
        "with torch.no_grad():\n",
        "    print((x ** 2).requires_grad)\n",
        "\n",
        "y = x.detach()\n",
        "print(y.requires_grad)\n",
        "print(x.requires_grad)\n",
        "print(x.eq(y).all())"
      ],
      "execution_count": null,
      "outputs": []
    },
    {
      "cell_type": "markdown",
      "metadata": {
        "id": "i8FVQ0htuVYl",
        "colab_type": "text"
      },
      "source": [
        "### 改变requires_grad flag的值\n",
        "### .requires_grad_( ... ) changes an existing Tensor’s requires_grad flag in-place. "
      ]
    },
    {
      "cell_type": "code",
      "metadata": {
        "id": "znnjJ8VDuUxB",
        "colab_type": "code",
        "colab": {
          "base_uri": "https://localhost:8080/",
          "height": 68
        },
        "outputId": "ac870468-98b8-4eea-975f-8ebe45e68baa"
      },
      "source": [
        "a = torch.randn(2, 2)\n",
        "a = ((a * 3) / (a - 1))\n",
        "print(a.requires_grad)\n",
        "a.requires_grad_(True)\n",
        "print(a.requires_grad)\n",
        "b = (a * a).sum()\n",
        "print(b.grad_fn)"
      ],
      "execution_count": 28,
      "outputs": [
        {
          "output_type": "stream",
          "text": [
            "False\n",
            "True\n",
            "<SumBackward0 object at 0x7f6ca01ca668>\n"
          ],
          "name": "stdout"
        }
      ]
    }
  ]
}