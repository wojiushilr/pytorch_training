{
  "nbformat": 4,
  "nbformat_minor": 0,
  "metadata": {
    "celltoolbar": "Slideshow",
    "kernelspec": {
      "name": "python3",
      "display_name": "Python 3"
    },
    "language_info": {
      "codemirror_mode": {
        "name": "ipython",
        "version": 3
      },
      "file_extension": ".py",
      "mimetype": "text/x-python",
      "name": "python",
      "nbconvert_exporter": "python",
      "pygments_lexer": "ipython3",
      "version": "3.8.2"
    },
    "colab": {
      "name": "01_beginner.ipynb",
      "provenance": [],
      "collapsed_sections": [
        "zqyBFdobMTha",
        "jlzoXa6UMThg",
        "l08nQdE9MThp",
        "Tmg4eFQAMThr",
        "jifMOIcNMTh5",
        "aSO1McZLMTiT",
        "OCwLf9C2MTiY",
        "IrapEC2XMTiY",
        "NwsmNTYLMTig",
        "OyN-mHRoMTii"
      ],
      "include_colab_link": true
    },
    "accelerator": "GPU"
  },
  "cells": [
    {
      "cell_type": "markdown",
      "metadata": {
        "id": "view-in-github",
        "colab_type": "text"
      },
      "source": [
        "<a href=\"https://colab.research.google.com/github/wojiushilr/pytorch_training/blob/master/01_beginner.ipynb\" target=\"_parent\"><img src=\"https://colab.research.google.com/assets/colab-badge.svg\" alt=\"Open In Colab\"/></a>"
      ]
    },
    {
      "cell_type": "markdown",
      "metadata": {
        "id": "X7Lg2NXGMThA",
        "colab_type": "text"
      },
      "source": [
        "# 01_beginner\n",
        "### Author: Lirui\n"
      ]
    },
    {
      "cell_type": "code",
      "metadata": {
        "id": "Hij-E5yzXFWp",
        "colab_type": "code",
        "colab": {}
      },
      "source": [
        "import torch\n",
        "import numpy as np"
      ],
      "execution_count": 1,
      "outputs": []
    },
    {
      "cell_type": "markdown",
      "metadata": {
        "id": "lv7LKv5pm9P6",
        "colab_type": "text"
      },
      "source": [
        "### look around the environment"
      ]
    },
    {
      "cell_type": "code",
      "metadata": {
        "id": "Zk91_jfKjtp0",
        "colab_type": "code",
        "colab": {
          "base_uri": "https://localhost:8080/",
          "height": 35
        },
        "outputId": "9919205b-579c-40e4-d0a9-658b9427c584"
      },
      "source": [
        "import os \n",
        "import subprocess\n",
        "\n",
        "# def sh(command):\n",
        "#     p = subprocess.Popen(command, shell=True, stdout=subprocess.PIPE)\n",
        "#     print(type(p))\n",
        "#     lines = []\n",
        "#     for line in iter(p.stdout.readline, b''):\n",
        "#         line = line.strip().decode(\"utf-8\")\n",
        "#         print(\">>>\", line)\n",
        "#         lines.append(line)\n",
        "#     return lines\n",
        "# sh(\"lshw\")\n",
        "import tensorflow as tf\n",
        "tf.test.gpu_device_name()\n"
      ],
      "execution_count": null,
      "outputs": [
        {
          "output_type": "execute_result",
          "data": {
            "application/vnd.google.colaboratory.intrinsic": {
              "type": "string"
            },
            "text/plain": [
              "'/device:GPU:0'"
            ]
          },
          "metadata": {
            "tags": []
          },
          "execution_count": 1
        }
      ]
    },
    {
      "cell_type": "markdown",
      "metadata": {
        "id": "HdmkdkzJnKHO",
        "colab_type": "text"
      },
      "source": [
        "# import libraries"
      ]
    },
    {
      "cell_type": "code",
      "metadata": {
        "id": "RQIPkkKdMThD",
        "colab_type": "code",
        "colab": {}
      },
      "source": [
        "import numpy as np\n",
        "import pandas as pd\n",
        "import cv2\n",
        "import os\n",
        "import time"
      ],
      "execution_count": null,
      "outputs": []
    },
    {
      "cell_type": "code",
      "metadata": {
        "id": "2AUvKQhOsiEk",
        "colab_type": "code",
        "colab": {}
      },
      "source": [
        "def readfile(path,label):\n",
        "    img_dir = sorted(os.listdir(path))\n",
        "    print(img_dir[0])\n",
        "    x = np.zeros((len(img_dir),128,128,3),dtype = np.uint8) # 图片存在这个维度\n",
        "    y = np.zeros(len(img_dir),dtype = np.uint8) # 标签\n",
        "    for i , file in enumerate(img_dir):\n",
        "        x[i] = cv2.resize(cv2.imread(os.path.join(path,file)),(128,128)) # 图像统一resize为128*128\n",
        "        # print(i)\n",
        "        # print(x.shape)\n",
        "        # print(x[0].shape)\n",
        "        # print(x[i,:,:].shape)\n",
        "        if label:\n",
        "            y[i] = int(file.split('_')[0])\n",
        "    if label:\n",
        "        return x, y\n",
        "    else:\n",
        "        return y"
      ],
      "execution_count": null,
      "outputs": []
    },
    {
      "cell_type": "code",
      "metadata": {
        "id": "A2EouRDftCTB",
        "colab_type": "code",
        "colab": {}
      },
      "source": [
        "# !ls \"/content/drive/My Drive/kaggle/hw3/\"\n",
        "# import zipfile\n",
        "# filename = \"/content/drive/My Drive/kaggle/hw3//data/food-11.zip\"\n",
        "# path = \"/content/drive/My Drive/kaggle/hw3//data/food-11\"\n",
        "# if not os.path.exists(path):\n",
        "#   def un_zip(filename):   # filename是文件的绝对路径\n",
        "#         zip_file=zipfile.ZipFile(filename)\n",
        "#         #判断同名文件夹是否存在，若不存在则创建同名文件夹\n",
        "#         if os.path.isdir(os.path.splitext(filename)[0]):\n",
        "#             pass\n",
        "#         else:\n",
        "#             os.mkdir(os.path.splitext(filename)[0])\n",
        "#         for names in zip_file.namelist():\n",
        "#             zip_file.extract(names,os.path.splitext(filename)[0])\n",
        "#         zip_file.close()\n",
        "#   un_zip(filename)\n",
        "# else:\n",
        "#   print(\"PASS\")\n"
      ],
      "execution_count": null,
      "outputs": []
    },
    {
      "cell_type": "code",
      "metadata": {
        "id": "iPbfWAjBsmN5",
        "colab_type": "code",
        "colab": {
          "base_uri": "https://localhost:8080/",
          "height": 136
        },
        "outputId": "7ea38777-4b78-4dc3-cf96-7ccea2221043"
      },
      "source": [
        "workspace_dir = \"/content/\"\n",
        "\n",
        "print(\"Reading data\")\n",
        "train_x , train_y = readfile(os.path.join(workspace_dir,\"training\"),True)\n",
        "print(\"Size of training data = {}\".format(len(train_x)))\n",
        "val_x , val_y = readfile(os.path.join(workspace_dir,\"validation\"),True)\n",
        "print(\"Size of validation data = {}\".format(len(val_x)))\n",
        "test_x = readfile(os.path.join(workspace_dir,'testing'),False)\n",
        "print(\"Size of Testing data = {}\".format(len(test_x)))"
      ],
      "execution_count": null,
      "outputs": [
        {
          "output_type": "stream",
          "text": [
            "Reading data\n",
            "0_0.jpg\n",
            "Size of training data = 9866\n",
            "0_0.jpg\n",
            "Size of validation data = 3430\n",
            "0000.jpg\n",
            "Size of Testing data = 3347\n"
          ],
          "name": "stdout"
        }
      ]
    },
    {
      "cell_type": "code",
      "metadata": {
        "id": "y648ZdTscUlG",
        "colab_type": "code",
        "colab": {}
      },
      "source": [
        "# For training data argumentation\n",
        "import torchvision.transforms as transforms\n",
        "# from torchvision import datasets, transforms #(这里的datasets包含了mnist之类的数据集)\n",
        "import torch\n",
        "\n",
        "train_transform = transforms.Compose([\n",
        "    transforms.ToPILImage(), #用于将Tensor变量的数据转换成PIL图片数据，主要是为了方便图片内容的显示\n",
        "    transforms.RandomHorizontalFlip(), # 隨機將圖片水平翻轉\n",
        "    transforms.RandomRotation(15), # 隨機旋轉圖片\n",
        "    transforms.ToTensor(), # 將圖片轉成 Tensor (C,H,W)，並把數值 normalize 到 [0,1] (data normalization), 即//225操作\n",
        "])\n",
        "\n",
        "# For testing 時不需做 data augmentation\n",
        "test_transform = transforms.Compose([\n",
        "    transforms.ToPILImage(),\n",
        "    transforms.ToTensor(),\n",
        "])"
      ],
      "execution_count": null,
      "outputs": []
    },
    {
      "cell_type": "code",
      "metadata": {
        "id": "ZDe0bqHHcYSt",
        "colab_type": "code",
        "colab": {
          "base_uri": "https://localhost:8080/",
          "height": 51
        },
        "outputId": "65d57e7b-9e53-45f9-a2e4-615851ac1c2d"
      },
      "source": [
        "from torch.utils.data import DataLoader,Dataset,IterableDataset\n",
        "class ImgDataset(Dataset):\n",
        "    def __init__(self, x, y=None, transform=None):\n",
        "        self.x = x\n",
        "        # label is required to be a LongTensor\n",
        "        self.y = y\n",
        "        if y is not None:\n",
        "            self.y = torch.LongTensor(y) #64位整型\n",
        "        self.transform = transform\n",
        "    def __len__(self):\n",
        "        return len(self.x)\n",
        "    def __getitem__(self, index):\n",
        "        X = self.x[index]\n",
        "        if self.transform is not None: #transform 不为空则做transform然后返回\n",
        "            X = self.transform(X)\n",
        "        if self.y is not None:\n",
        "            Y = self.y[index]\n",
        "            return X, Y\n",
        "        else:\n",
        "            return X\n",
        "\n",
        "batch_size = 128\n",
        "\n",
        "# 实例对象\n",
        "train_set = ImgDataset(train_x,train_y,train_transform) # 实例化train_set\n",
        "print(train_set)\n",
        "if isinstance(train_set, IterableDataset):\n",
        "    print(\"train_set isinstance IterableDataset\")\n",
        "if isinstance(train_set, Dataset):\n",
        "    print(\"train_set isinstance Dataset\")\n",
        "val_set = ImgDataset(val_x,val_y,test_transform)\n",
        "# 第一个参数要么是torch.utils.data.Dataset类的对象，要么是继承自torch.utils.data.Dataset类的自定义类的对象\n",
        "train_loader = DataLoader(train_set,batch_size = batch_size,shuffle = True)\n",
        "val_loader = DataLoader(val_set,batch_size = batch_size,shuffle = False)"
      ],
      "execution_count": null,
      "outputs": [
        {
          "output_type": "stream",
          "text": [
            "<__main__.ImgDataset object at 0x7f0c87333cf8>\n",
            "train_set isinstance Dataset\n"
          ],
          "name": "stdout"
        }
      ]
    },
    {
      "cell_type": "code",
      "metadata": {
        "id": "fqNsBHDAccHr",
        "colab_type": "code",
        "colab": {
          "base_uri": "https://localhost:8080/",
          "height": 34
        },
        "outputId": "ce85bd06-079c-4bf4-d75d-e7a3e8635c3a"
      },
      "source": [
        "import torch.nn as nn\n",
        "class myCNN(nn.Module):\n",
        "    def __init__(self):\n",
        "        super(myCNN, self).__init__()  # 第一句话，调用父类的构造函数\n",
        "        # 接下来定义myCNN\n",
        "        self.cnn = nn.Sequential(\n",
        "            nn.Conv2d(3, 64, 3, 1, 1),  # [64,128,128] # in_channels=3, out_channels=64, kernel_size=3, stride=1,padding=1\n",
        "            nn.BatchNorm2d(64),\n",
        "            nn.ReLU(),\n",
        "            nn.MaxPool2d(2, 2, 0),  # [64,64,64]\n",
        "\n",
        "            nn.Conv2d(64, 128, 3, 1, 1),  # [128,64,64]\n",
        "            nn.BatchNorm2d(128),\n",
        "            nn.ReLU(),\n",
        "            nn.MaxPool2d(2, 2, 0),\n",
        "\n",
        "            nn.Conv2d(128, 256, 3, 1, 1),  # [256, 32, 32]\n",
        "            nn.BatchNorm2d(256),\n",
        "            nn.ReLU(),\n",
        "            nn.MaxPool2d(2, 2, 0),  # [256, 16, 16]\n",
        "\n",
        "            nn.Conv2d(256, 512, 3, 1, 1),  # [512, 16, 16]\n",
        "            nn.BatchNorm2d(512),\n",
        "            nn.ReLU(),\n",
        "            nn.MaxPool2d(2, 2, 0),  # [512, 8, 8]\n",
        "\n",
        "            nn.Conv2d(512, 512, 3, 1, 1),  # [512, 8, 8]\n",
        "            nn.BatchNorm2d(512),\n",
        "            nn.ReLU(),\n",
        "            nn.MaxPool2d(2, 2, 0),  # [512, 4, 4]\n",
        "        )\n",
        "\n",
        "        self.fc = nn.Sequential(\n",
        "            nn.Linear(512 * 4 * 4, 1024),\n",
        "            nn.ReLU(),\n",
        "            nn.Linear(1024, 512),\n",
        "            nn.ReLU(),\n",
        "            nn.Linear(512, 11)\n",
        "        )\n",
        "\n",
        "    def forward(self, x):\n",
        "        out = self.cnn(x)\n",
        "        out = out.view(out.size()[0], -1) # flatten 本例子的话把 512*4*4 拉成 512*16\n",
        "        return self.fc(out)\n",
        "print(\"model buliding over\")"
      ],
      "execution_count": null,
      "outputs": [
        {
          "output_type": "stream",
          "text": [
            "model buliding over\n"
          ],
          "name": "stdout"
        }
      ]
    },
    {
      "cell_type": "code",
      "metadata": {
        "id": "YoN7QQDrcib2",
        "colab_type": "code",
        "colab": {}
      },
      "source": [
        "# Training\n",
        "model = myCNN().cuda()\n",
        "loss = nn.CrossEntropyLoss()\n",
        "optimizer = torch.optim.Adam(model.parameters(),lr = 0.001)\n",
        "num_epoch = 30\n",
        "for epoch in range(num_epoch):\n",
        "    epoch_start_time = time.time()\n",
        "    train_acc = 0.0\n",
        "    train_loss = 0.0\n",
        "    val_acc = 0.0\n",
        "    val_loss = 0.0\n",
        "    # model.train() ：启用BatchNormalization和Dropout\n",
        "    # model.eval() ：不启用BatchNormalization和Dropout\n",
        "    model.train() # 確保 model 是在 train model (開啟 Dropout 等...)\n",
        "    for i, data in enumerate(train_loader):\n",
        "        optimizer.zero_grad() # 用 optimizer 將 model 參數的 gradient 歸零\n",
        "        # print(data[0].cpu().numpy().shape) #(128, 3, 128, 128)\n",
        "        train_pred = model(data[0].cuda()) #  利用 model 得到預測的機率分佈 這邊實際上就是去呼叫 model 的 forward 函數\n",
        "        batch_loss = loss(train_pred, data[1].cuda()) # 計算 loss （注意 prediction 跟 label 必須同時在 CPU 或是 GPU 上）\n",
        "        batch_loss.backward() # 利用 back propagation 算出每個參數的 gradient\n",
        "        optimizer.step() # 以 optimizer 用 gradient 更新參數值\n",
        "\n",
        "        train_acc += np.sum(np.argmax(train_pred.cpu().data.numpy(), axis=1) == data[1].numpy())\n",
        "        print(train_pred.cpu().data.numpy().shape)\n",
        "        train_loss += batch_loss.item()\n",
        "\n",
        "    model.eval()\n",
        "    with torch.no_grad():\n",
        "        for i, data in enumerate(val_loader):\n",
        "            val_pred = model(data[0].cuda())\n",
        "            batch_loss = loss(val_pred, data[1].cuda())\n",
        "\n",
        "            val_acc += np.sum(np.argmax(val_pred.cpu().data.numpy(), axis=1) == data[1].numpy())\n",
        "            val_loss += batch_loss.item()\n",
        "\n",
        "        # 將結果 print 出來\n",
        "        print('[%03d/%03d] %2.2f sec(s) Train Acc: %3.6f Loss: %3.6f | Val Acc: %3.6f loss: %3.6f' % \\\n",
        "              (epoch + 1, num_epoch, time.time() - epoch_start_time, \\\n",
        "               train_acc / train_set.__len__(), train_loss / train_set.__len__(), val_acc / val_set.__len__(),\n",
        "               val_loss / val_set.__len__()))"
      ],
      "execution_count": null,
      "outputs": []
    },
    {
      "cell_type": "markdown",
      "metadata": {
        "id": "i8FVQ0htuVYl",
        "colab_type": "text"
      },
      "source": [
        "得到好的參數後，我們使用 training set 和 validation set 共同訓練（資料變多，模型效果較好）"
      ]
    },
    {
      "cell_type": "code",
      "metadata": {
        "id": "znnjJ8VDuUxB",
        "colab_type": "code",
        "colab": {}
      },
      "source": [
        "train_val_x = np.concatenate((train_x, val_x), axis=0)\n",
        "train_val_y = np.concatenate((train_y, val_y), axis=0)\n",
        "train_val_set = ImgDataset(train_val_x, train_val_y, train_transform)\n",
        "train_val_loader = DataLoader(train_val_set, batch_size=batch_size, shuffle=True)"
      ],
      "execution_count": null,
      "outputs": []
    },
    {
      "cell_type": "code",
      "metadata": {
        "id": "swbricAnuaUc",
        "colab_type": "code",
        "colab": {}
      },
      "source": [
        "model_best = Classifier().cuda()\n",
        "loss = nn.CrossEntropyLoss() # 因為是 classification task，所以 loss 使用 CrossEntropyLoss\n",
        "optimizer = torch.optim.Adam(model_best.parameters(), lr=0.001) # optimizer 使用 Adam\n",
        "num_epoch = 30\n",
        "\n",
        "for epoch in range(num_epoch):\n",
        "    epoch_start_time = time.time()\n",
        "    train_acc = 0.0\n",
        "    train_loss = 0.0\n",
        "\n",
        "    model_best.train()\n",
        "    for i, data in enumerate(train_val_loader):\n",
        "        optimizer.zero_grad()\n",
        "        train_pred = model_best(data[0].cuda())\n",
        "        batch_loss = loss(train_pred, data[1].cuda())\n",
        "        batch_loss.backward()\n",
        "        optimizer.step()\n",
        "\n",
        "        train_acc += np.sum(np.argmax(train_pred.cpu().data.numpy(), axis=1) == data[1].numpy())\n",
        "        train_loss += batch_loss.item()\n",
        "\n",
        "        #將結果 print 出來\n",
        "    print('[%03d/%03d] %2.2f sec(s) Train Acc: %3.6f Loss: %3.6f' % \\\n",
        "      (epoch + 1, num_epoch, time.time()-epoch_start_time, \\\n",
        "      train_acc/train_val_set.__len__(), train_loss/train_val_set.__len__()))"
      ],
      "execution_count": null,
      "outputs": []
    }
  ]
}