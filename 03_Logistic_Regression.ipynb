{
  "nbformat": 4,
  "nbformat_minor": 0,
  "metadata": {
    "colab": {
      "name": "03_Logistic_Regression.ipynb",
      "provenance": [],
      "toc_visible": true,
      "authorship_tag": "ABX9TyPmivEXp5Eu0lLwSDZ0g1Ug",
      "include_colab_link": true
    },
    "kernelspec": {
      "name": "python3",
      "display_name": "Python 3"
    }
  },
  "cells": [
    {
      "cell_type": "markdown",
      "metadata": {
        "id": "view-in-github",
        "colab_type": "text"
      },
      "source": [
        "<a href=\"https://colab.research.google.com/github/wojiushilr/pytorch_training/blob/master/03_Logistic_Regression.ipynb\" target=\"_parent\"><img src=\"https://colab.research.google.com/assets/colab-badge.svg\" alt=\"Open In Colab\"/></a>"
      ]
    },
    {
      "cell_type": "markdown",
      "metadata": {
        "id": "0Kp0d9IZljq2",
        "colab_type": "text"
      },
      "source": [
        "### 引包定义超参数"
      ]
    },
    {
      "cell_type": "code",
      "metadata": {
        "id": "_tCgJj1RaWz3",
        "colab_type": "code",
        "colab": {}
      },
      "source": [
        "import time\n",
        "import torch\n",
        "from torch import nn\n",
        "import torch.nn.functional as F\n",
        "from torch.utils.data import DataLoader\n",
        "from torchvision import datasets, transforms"
      ],
      "execution_count": 102,
      "outputs": []
    },
    {
      "cell_type": "code",
      "metadata": {
        "id": "7b4bChfRivrM",
        "colab_type": "code",
        "colab": {}
      },
      "source": [
        "# 定义超参数\n",
        "batch_size = 64\n",
        "learning_rate = 1e-3\n",
        "num_epochs = 100"
      ],
      "execution_count": 103,
      "outputs": []
    },
    {
      "cell_type": "markdown",
      "metadata": {
        "id": "TYDIng30lpy0",
        "colab_type": "text"
      },
      "source": [
        "### 下载数据集mnist"
      ]
    },
    {
      "cell_type": "code",
      "metadata": {
        "id": "bQKVzuVglv9J",
        "colab_type": "code",
        "colab": {}
      },
      "source": [
        "train_dataset = datasets.FashionMNIST(\n",
        "    root='../datasets', train=True, transform=transforms.ToTensor(), download=True)\n",
        "\n",
        "test_dataset = datasets.FashionMNIST(\n",
        "    root='../datasets', train=False, transform=transforms.ToTensor())\n",
        "\n",
        "train_loader = DataLoader(train_dataset, batch_size=batch_size, shuffle=True)\n",
        "test_loader = DataLoader(test_dataset, batch_size=batch_size, shuffle=False)"
      ],
      "execution_count": 104,
      "outputs": []
    },
    {
      "cell_type": "markdown",
      "metadata": {
        "id": "i2Vl8N9Bv9fu",
        "colab_type": "text"
      },
      "source": [
        "### 看看数据集里都是什么格式\n",
        "### 看起来data[0] -> image data\n",
        "### data[1] -> imgae label"
      ]
    },
    {
      "cell_type": "code",
      "metadata": {
        "id": "wzwehPmlmmIH",
        "colab_type": "code",
        "colab": {
          "base_uri": "https://localhost:8080/",
          "height": 170
        },
        "outputId": "a9449ba1-34aa-47de-f3e4-f2966dbf6800"
      },
      "source": [
        "print(type(train_dataset))\n",
        "print(train_loader)\n",
        "for i, data in enumerate(train_loader,0):\n",
        "  print(data[1])\n",
        "  print(type(data)) ## <class 'list'>\n",
        "  print(type(data[1])) ## <class 'torch.Tensor'>\n",
        "  print(len(data[1]))\n",
        "  print(i)\n",
        "  break"
      ],
      "execution_count": 105,
      "outputs": [
        {
          "output_type": "stream",
          "text": [
            "<class 'torchvision.datasets.mnist.FashionMNIST'>\n",
            "<torch.utils.data.dataloader.DataLoader object at 0x7fa697364cf8>\n",
            "tensor([5, 9, 9, 7, 4, 2, 3, 2, 7, 2, 4, 3, 7, 8, 3, 1, 3, 6, 7, 1, 6, 8, 2, 7,\n",
            "        3, 1, 4, 3, 1, 2, 9, 2, 8, 9, 6, 3, 4, 0, 2, 9, 5, 9, 2, 8, 4, 7, 1, 6,\n",
            "        4, 4, 4, 8, 0, 0, 2, 8, 7, 6, 3, 0, 3, 5, 4, 6])\n",
            "<class 'list'>\n",
            "<class 'torch.Tensor'>\n",
            "64\n",
            "0\n"
          ],
          "name": "stdout"
        }
      ]
    },
    {
      "cell_type": "markdown",
      "metadata": {
        "id": "elQl2DtVpSkt",
        "colab_type": "text"
      },
      "source": [
        "### 定义模型， 如果有GPU则使用GPU"
      ]
    },
    {
      "cell_type": "code",
      "metadata": {
        "id": "PEsof8_Do3Yz",
        "colab_type": "code",
        "colab": {}
      },
      "source": [
        "# logistic Regression Model\n",
        "class LogisticRegression(nn.Module):\n",
        "    def __init__(self,in_dim, n_class):\n",
        "        super(LogisticRegression, self).__init__()\n",
        "        self.logistic = nn.Linear(in_dim, n_class)  # input and output is 1 dimension\n",
        "\n",
        "    def forward(self, x):\n",
        "        out = self.logistic(x)\n",
        "        return out\n",
        "  \n",
        "\n",
        "model = LogisticRegression(28*28 ,10)\n",
        "if torch.cuda.is_available():\n",
        "    model = model.cuda()\n",
        "loss = nn.CrossEntropyLoss()\n",
        "optimizer = torch.optim.SGD(model.parameters(), lr=learning_rate)"
      ],
      "execution_count": 106,
      "outputs": []
    },
    {
      "cell_type": "markdown",
      "metadata": {
        "id": "9-GQd2YHtk3R",
        "colab_type": "text"
      },
      "source": [
        "### 训练"
      ]
    },
    {
      "cell_type": "code",
      "metadata": {
        "id": "qSozr_YVtkRk",
        "colab_type": "code",
        "colab": {}
      },
      "source": [
        "for epoch in range(num_epochs):\n",
        "  starttime = time.time()\n",
        "  train_acc = 0.0\n",
        "  train_loss = 0.0\n",
        "  val_acc = 0.0\n",
        "  val_loss = 0.0\n",
        "  for i, data in enumerate(train_loader):\n",
        "    img, label = data\n",
        "    img = img.view(img.size(0), -1)  # 将图片展开成 28x28\n",
        "    if torch.cuda.is_available():\n",
        "      img = img.cuda()\n",
        "      label = label.cuda()\n",
        "    # 向前传播\n",
        "    train_pred = model(img)\n",
        "    batch_loss = loss(train_pred, label)\n",
        "    train_loss += batch_loss.item()\n",
        "    _, pred = torch.max(train_pred, 1)\n",
        "    train_acc += (pred==label).float().mean()\n",
        "    optimizer.zero_grad()\n",
        "    batch_loss.backward() # 算出每個參數的 gradient\n",
        "    optimizer.step() # 以 optimizer 用 gradient 更新參數值\n",
        "  if i % 300 == 0:\n",
        "    # print(f'[{epoch+1}/{num_epochs}] Loss: {train_loss/i:.6f}, Acc: {train_acc　/i:.6f}')\n",
        "    print(\"{} / {} Loss: {}, Acc: {}\".format(epoch+1,num_epochs, train_loss/i, train_acc/i))\n",
        "  print(\"{} / {} Loss: {}, Acc: {}\".format(epoch+1, num_epochs, train_loss/i, train_acc/i))\n",
        "    \n",
        "  model.eval()\n",
        "  for data in test_loader:\n",
        "      img, label = data\n",
        "      img = img.view(img.size(0), -1)\n",
        "      if torch.cuda.is_available():\n",
        "          img = img.cuda()\n",
        "          label = label.cuda()\n",
        "      with torch.no_grad():\n",
        "          val_pred = model(img)\n",
        "          batch_loss = loss(val_pred, label)\n",
        "      val_loss += batch_loss.item()\n",
        "      _, pred = torch.max(val_pred, 1)\n",
        "      val_acc += (pred == label).float().mean()\n",
        "  print(f'Test Loss: {val_loss/len(test_loader):.6f}, Acc: {val_acc/len(test_loader):.6f}')\n",
        "  print(f'Time:{(time.time()-starttime):.1f} s')\n",
        "\n",
        "# 保存模型\n",
        "torch.save(model.state_dict(), './logstic.pth')\n"
      ],
      "execution_count": null,
      "outputs": []
    },
    {
      "cell_type": "markdown",
      "metadata": {
        "id": "1dA3lLGs2v0O",
        "colab_type": "text"
      },
      "source": [
        "## Some tip about axis\n",
        "## https://www.jianshu.com/p/64a7fb9ac310"
      ]
    },
    {
      "cell_type": "code",
      "metadata": {
        "id": "jwCBmKNsyZbQ",
        "colab_type": "code",
        "colab": {}
      },
      "source": [
        "a = torch.tensor([[1,3,7],[4,5,6]])\n",
        "print(torch.max(a,0))\n",
        "print(a.max())"
      ],
      "execution_count": null,
      "outputs": []
    },
    {
      "cell_type": "code",
      "metadata": {
        "id": "U80DOx9F8KSR",
        "colab_type": "code",
        "colab": {
          "base_uri": "https://localhost:8080/",
          "height": 51
        },
        "outputId": "189e006f-d646-4c8a-f96a-94e8d5b2b180"
      },
      "source": [
        "print(\"{} / {} Loss: {}, Acc: {}\".format(\"1\",\"1\",\"1\",\"1\"))\n",
        "print(\"{} / {} Loss: {}, Acc: {}\".format(100+1,222, 22/2, 222/2))"
      ],
      "execution_count": 90,
      "outputs": [
        {
          "output_type": "stream",
          "text": [
            "1 / 1 Loss: 1, Acc: 1\n",
            "101 / 222 Loss: 11.0, Acc: 111.0\n"
          ],
          "name": "stdout"
        }
      ]
    },
    {
      "cell_type": "markdown",
      "metadata": {
        "id": "SNM0C3uSFoHa",
        "colab_type": "text"
      },
      "source": [
        "### 小例子解释本Script是怎么计算accuracy的"
      ]
    },
    {
      "cell_type": "code",
      "metadata": {
        "id": "F-HMYovzEtZJ",
        "colab_type": "code",
        "colab": {
          "base_uri": "https://localhost:8080/",
          "height": 68
        },
        "outputId": "ae3eeeb3-1208-4149-e228-af9fa6710dfc"
      },
      "source": [
        "train_acc = 0\n",
        "pred = torch.tensor([1,2,3,4]) \n",
        "actual = torch.tensor([1,2,2,4]) \n",
        "train_acc = (pred==actual) # tensor([ True,  True, False,  True])\n",
        "print(train_acc)\n",
        "train_acc = (pred==actual).float() # tensor([1., 1., 0., 1.])\n",
        "print(train_acc)\n",
        "train_acc = (pred==actual).float().mean() # tensor(0.7500)\n",
        "print(train_acc)"
      ],
      "execution_count": 116,
      "outputs": [
        {
          "output_type": "stream",
          "text": [
            "tensor([ True,  True, False,  True])\n",
            "tensor([1., 1., 0., 1.])\n",
            "tensor(0.7500)\n"
          ],
          "name": "stdout"
        }
      ]
    }
  ]
}