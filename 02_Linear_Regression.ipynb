{
  "nbformat": 4,
  "nbformat_minor": 0,
  "metadata": {
    "colab": {
      "name": "02_Linear_Regression.ipynb",
      "provenance": [],
      "authorship_tag": "ABX9TyP6cdu0zJ+GQXuNPL8JGtWT",
      "include_colab_link": true
    },
    "kernelspec": {
      "name": "python3",
      "display_name": "Python 3"
    }
  },
  "cells": [
    {
      "cell_type": "markdown",
      "metadata": {
        "id": "view-in-github",
        "colab_type": "text"
      },
      "source": [
        "<a href=\"https://colab.research.google.com/github/wojiushilr/pytorch_training/blob/master/02_Linear_Regression.ipynb\" target=\"_parent\"><img src=\"https://colab.research.google.com/assets/colab-badge.svg\" alt=\"Open In Colab\"/></a>"
      ]
    },
    {
      "cell_type": "markdown",
      "metadata": {
        "id": "NuRnJpetNthm",
        "colab_type": "text"
      },
      "source": [
        "## A simple demo for LR"
      ]
    },
    {
      "cell_type": "code",
      "metadata": {
        "id": "v4mLP5UFNdjM",
        "colab_type": "code",
        "colab": {}
      },
      "source": [
        "import matplotlib.pyplot as plt\n",
        "import numpy as np\n",
        "import torch\n",
        "from torch import nn"
      ],
      "execution_count": 2,
      "outputs": []
    },
    {
      "cell_type": "markdown",
      "metadata": {
        "id": "7u2hOPEIQIfY",
        "colab_type": "text"
      },
      "source": [
        "### 随缘初始化"
      ]
    },
    {
      "cell_type": "markdown",
      "metadata": {
        "id": "W-iZa-1RqikF",
        "colab_type": "text"
      },
      "source": [
        ""
      ]
    },
    {
      "cell_type": "code",
      "metadata": {
        "id": "cuRipL_7QHoY",
        "colab_type": "code",
        "colab": {}
      },
      "source": [
        "x_train = np.array([[3.3], [4.4], [5.5], [6.71], [6.93], [4.168],\n",
        "                    [9.779], [6.182], [7.59], [2.167], [7.042],\n",
        "                    [10.791], [5.313], [7.997], [3.1]], dtype=np.float32)\n",
        "\n",
        "y_train = np.array([[1.7], [2.76], [2.09], [3.19], [1.694], [1.573],\n",
        "                    [3.366], [2.596], [2.53], [1.221], [2.827],\n",
        "                    [3.465], [1.65], [2.904], [1.3]], dtype=np.float32)\n",
        "x_train = torch.from_numpy(x_train)\n",
        "y_train = torch.from_numpy(y_train)"
      ],
      "execution_count": 3,
      "outputs": []
    },
    {
      "cell_type": "code",
      "metadata": {
        "id": "00nrf2trQWTV",
        "colab_type": "code",
        "colab": {}
      },
      "source": [
        "# Linear Regression Model\n",
        "class linearRegression(nn.Module):\n",
        "    def __init__(self):\n",
        "        super(linearRegression, self).__init__()\n",
        "        self.linear = nn.Linear(1, 1)  # input and output is 1 dimension\n",
        "\n",
        "    def forward(self, x):\n",
        "        out = self.linear(x)\n",
        "        return out"
      ],
      "execution_count": 4,
      "outputs": []
    },
    {
      "cell_type": "code",
      "metadata": {
        "id": "BqRJwb1ZQgX3",
        "colab_type": "code",
        "colab": {}
      },
      "source": [
        "model = linearRegression()\n",
        "# 定义loss和优化函数\n",
        "# momentum=0 by default\n",
        "loss = nn.MSELoss()\n",
        "optimizer = torch.optim.SGD(model.parameters(), lr=1e-4)"
      ],
      "execution_count": 16,
      "outputs": []
    },
    {
      "cell_type": "markdown",
      "metadata": {
        "id": "_opeBZNvRGyg",
        "colab_type": "text"
      },
      "source": [
        "### start training"
      ]
    },
    {
      "cell_type": "code",
      "metadata": {
        "id": "9kg5TxnWRJT4",
        "colab_type": "code",
        "colab": {
          "base_uri": "https://localhost:8080/",
          "height": 102
        },
        "outputId": "63389dac-1e1d-4bd2-9a82-b5c8e0a64656"
      },
      "source": [
        "# 开始训练\n",
        "num_epochs = 1000\n",
        "for epoch in range(num_epochs):\n",
        "    inputs = x_train\n",
        "    target = y_train\n",
        "\n",
        "    # forward\n",
        "    out = model(inputs)\n",
        "    temp_loss = loss(out, target)\n",
        "\n",
        "    # backward\n",
        "    optimizer.zero_grad() # Clears the gradients of all optimized torch.Tensor s.\n",
        "    temp_loss.backward()\n",
        "    optimizer.step() # Performs a single optimization step (parameter update).\n",
        "\n",
        "    if (epoch+1) % 200 == 0:\n",
        "        print(f'Epoch[{epoch+1}/{num_epochs}], temp_loss: {temp_loss.item():.6f}')\n"
      ],
      "execution_count": 20,
      "outputs": [
        {
          "output_type": "stream",
          "text": [
            "Epoch[200/1000], temp_loss: 0.219608\n",
            "Epoch[400/1000], temp_loss: 0.219089\n",
            "Epoch[600/1000], temp_loss: 0.218577\n",
            "Epoch[800/1000], temp_loss: 0.218069\n",
            "Epoch[1000/1000], temp_loss: 0.217567\n"
          ],
          "name": "stdout"
        }
      ]
    },
    {
      "cell_type": "markdown",
      "metadata": {
        "id": "vbcq8XxaSOud",
        "colab_type": "text"
      },
      "source": [
        "### start evaluation"
      ]
    },
    {
      "cell_type": "code",
      "metadata": {
        "id": "2mQzRWrKSNhg",
        "colab_type": "code",
        "colab": {}
      },
      "source": [
        "model.eval()\n",
        "with torch.no_grad():\n",
        "    predict = model(x_train)\n",
        "predict = predict.data.numpy()"
      ],
      "execution_count": 18,
      "outputs": []
    },
    {
      "cell_type": "markdown",
      "metadata": {
        "id": "cD30XrhDScp5",
        "colab_type": "text"
      },
      "source": [
        "### 可视化 & 模型保存"
      ]
    },
    {
      "cell_type": "code",
      "metadata": {
        "id": "VYQU397-Shf6",
        "colab_type": "code",
        "colab": {
          "base_uri": "https://localhost:8080/",
          "height": 320
        },
        "outputId": "18e6f694-7352-4dde-d02c-4244615aa1e3"
      },
      "source": [
        "fig = plt.figure(figsize=(10, 5))\n",
        "plt.plot(x_train.numpy(), y_train.numpy(), 'ro', label='Original data')\n",
        "plt.plot(x_train.numpy(), predict, label='Fitting Line')\n",
        "# 显示图例\n",
        "plt.legend() \n",
        "plt.show()\n",
        "\n",
        "# 保存模型\n",
        "torch.save(model.state_dict(), './linear.pth')"
      ],
      "execution_count": 19,
      "outputs": [
        {
          "output_type": "display_data",
          "data": {
            "image/png": "[encoded data removed]",
            "text/plain": [
              "<Figure size 720x360 with 1 Axes>"
            ]
          },
          "metadata": {
            "tags": [],
            "needs_background": "light"
          }
        }
      ]
    }
  ]
}